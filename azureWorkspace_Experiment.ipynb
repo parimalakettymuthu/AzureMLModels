{
 "cells": [
  {
   "cell_type": "code",
   "execution_count": null,
   "metadata": {},
   "outputs": [],
   "source": [
    "#Importing required packages env\n",
    "from azureml.core import Environment\n",
    "from azureml.core.experiment import Experiment \n",
    "from azureml.core.conda_dependencies import CondaDependencies\n",
    "\n",
    "#Environment containers\n",
    "from azureml.core import ScriptRunConfig\n",
    "from azureml.core.runconfig import DockerConfiguration\n",
    "\n",
    "#Workspace\n",
    "from azureml.core import Workspace"
   ]
  },
  {
   "cell_type": "code",
   "execution_count": null,
   "metadata": {},
   "outputs": [],
   "source": [
    "#Creating workspace\n",
    "workspace_name=\"myworkspace\"\n",
    "subscription_id=\"\"\n",
    "resource_group=\"azuremlrg\"\n",
    "location=\"North Central US\"\n",
    "\n",
    "try:\n",
    "    existing_workspace = Workspace.get(\n",
    "        name=workspace_name,\n",
    "        subscription_id=subscription_id,\n",
    "        resource_group=resource_group,\n",
    "        location=location  \n",
    "        )\n",
    "except: \n",
    "    print(\"Workspace not found\")\n",
    "    wrkspace = Workspace.create(\n",
    "        workspace_name=workspace_name,\n",
    "        subscription_id=subscription_id,\n",
    "        resource_group=resource_group,\n",
    "        create_resource_group=False,\n",
    "        location=location)\n",
    "  "
   ]
  },
  {
   "cell_type": "code",
   "execution_count": null,
   "metadata": {},
   "outputs": [],
   "source": [
    "#Creating environments\n",
    "env = Environment(name='training environment')\n",
    "deps = CondaDependencies.create(\n",
    "    conda_packages=['scikit-learn', 'pandas', 'numpy'],\n",
    "    pip_packages=['azureml-defaults']\n",
    ")\n",
    "env.python.conda_dependencies = deps"
   ]
  },
  {
   "cell_type": "code",
   "execution_count": null,
   "metadata": {},
   "outputs": [],
   "source": [
    "experiment = Experiment(workspace=existing_workspace, name=\"training-environment\")"
   ]
  },
  {
   "cell_type": "code",
   "execution_count": null,
   "metadata": {},
   "outputs": [],
   "source": [
    "list_experiments = Experiment.list(existing_workspace)\n",
    "for exp in list_experiments:\n",
    "    print(exp.id)"
   ]
  },
  {
   "cell_type": "code",
   "execution_count": null,
   "metadata": {},
   "outputs": [],
   "source": [
    "from sklearn import svm\n",
    "import joblib\n",
    "import numpy as np\n",
    "\n",
    "#Creating X data\n",
    "X_train = np.array([50, 17, 70, 20, 45, 18, 78,60])\n",
    "X_train = X_train.reshape(-1, 1)\n",
    "\n",
    "#Creating Y data\n",
    "Y_train = np.array([\"Yes\", \"No\", \"Yes\", \"No\", \"No\", \"No\", \"Yes\", \"Yes\"])\n",
    "\n",
    "clf = svm.SVC(gamma=0.001, C=100.)\n",
    "clf.fit(X_train, Y_train)\n",
    "\n",
    "joblib.dump(value=clf, filename=\"svm_classification_model.pkl\")"
   ]
  },
  {
   "cell_type": "code",
   "execution_count": null,
   "metadata": {},
   "outputs": [],
   "source": [
    "#Register the model \n",
    "from azureml.core import Model\n",
    "model = Model.register(workspace=existing_workspace, model_path=\"svm_classification_model.pkl\", model_name=\"svm_classification_model\")"
   ]
  },
  {
   "cell_type": "code",
   "execution_count": null,
   "metadata": {},
   "outputs": [],
   "source": []
  }
 ],
 "metadata": {
  "language_info": {
   "name": "python"
  }
 },
 "nbformat": 4,
 "nbformat_minor": 2
}
